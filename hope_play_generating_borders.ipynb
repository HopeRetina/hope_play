{
  "nbformat": 4,
  "nbformat_minor": 0,
  "metadata": {
    "colab": {
      "name": "hope_play_generating_borders.ipynb",
      "provenance": [],
      "authorship_tag": "ABX9TyNfs3toSaKYip7I/iUKqVMr",
      "include_colab_link": true
    },
    "kernelspec": {
      "name": "python3",
      "display_name": "Python 3"
    },
    "language_info": {
      "name": "python"
    }
  },
  "cells": [
    {
      "cell_type": "markdown",
      "metadata": {
        "id": "view-in-github",
        "colab_type": "text"
      },
      "source": [
        "<a href=\"https://colab.research.google.com/github/HopeRetina/hope_play/blob/main/hope_play_generating_borders.ipynb\" target=\"_parent\"><img src=\"https://colab.research.google.com/assets/colab-badge.svg\" alt=\"Open In Colab\"/></a>"
      ]
    },
    {
      "cell_type": "code",
      "execution_count": null,
      "metadata": {
        "colab": {
          "base_uri": "https://localhost:8080/",
          "height": 35
        },
        "id": "cvkxyWhX6KWu",
        "outputId": "d752b0d4-5f19-4628-8da6-88c67016a77d"
      },
      "outputs": [
        {
          "output_type": "execute_result",
          "data": {
            "text/plain": [
              "'4.1.2'"
            ],
            "application/vnd.google.colaboratory.intrinsic+json": {
              "type": "string"
            }
          },
          "metadata": {},
          "execution_count": 1
        }
      ],
      "source": [
        "import cv2\n",
        "cv2.__version__"
      ]
    },
    {
      "cell_type": "markdown",
      "source": [
        "## This script shows how to generate borders around objects for semantic segmentation. We'll first erode and then dilat, and use the dilated image minus the eroded one to get our border."
      ],
      "metadata": {
        "id": "sX0E-1yW6pDV"
      }
    },
    {
      "cell_type": "code",
      "source": [
        "import numpy as np\n",
        "import matplotlib.pyplot as plt\n",
        "%matplotlib inline"
      ],
      "metadata": {
        "id": "x0is7c6P6VRI"
      },
      "execution_count": null,
      "outputs": []
    },
    {
      "cell_type": "code",
      "source": [
        "def make_border(image, border_size=5, num_erosions=1):\n",
        "  erosion_kernel = np.ones((3,3), np.uint8) # Here start by eroding the peripheral pixels\n",
        "  eroded_img = cv2.erode(image, erosion_kernel, iterations=num_erosions)\n",
        "\n",
        "  # Define kernel size for dilation based on the desired border size (add 1 to keep it odd)\n",
        "  kernel_size = 2 * border_size + 1\n",
        "  dilation_kernel = np.ones((kernel_size, kernel_size), np.uint8)\n",
        "  dilated = cv2.dilate(eroded_img, dilation_kernel, iterations=1)\n",
        "  # plt.imshow(dilated, cmap='gray')\n",
        "\n",
        "  dilated_127 = np.where(dilated==255, 147, dilated)\n",
        "\n",
        "  result = np.where(eroded_img > 127, 255, dilated_127)\n",
        "\n",
        "  #plt.imshow(result, cmap='gray')\n",
        "\n",
        "  return result"
      ],
      "metadata": {
        "id": "3wyGrldH_O_x"
      },
      "execution_count": null,
      "outputs": []
    },
    {
      "cell_type": "markdown",
      "source": [
        "# Now test the function with an image\n",
        "\n",
        "## Load data"
      ],
      "metadata": {
        "id": "Tec8lUZxGa_v"
      }
    },
    {
      "cell_type": "code",
      "source": [
        "img = cv2.imread('random_shapes.png', cv2.IMREAD_GRAYSCALE)\n",
        "img_w_border = make_border(img, border_size=25)\n",
        "plt.imshow(img_w_border, cmap='summer')"
      ],
      "metadata": {
        "id": "CuytTaiHGf9v",
        "colab": {
          "base_uri": "https://localhost:8080/",
          "height": 287
        },
        "outputId": "184a5369-ba01-40c5-a006-33302365d549"
      },
      "execution_count": null,
      "outputs": [
        {
          "output_type": "execute_result",
          "data": {
            "text/plain": [
              "<matplotlib.image.AxesImage at 0x7f0b34dcf6d0>"
            ]
          },
          "metadata": {},
          "execution_count": 14
        },
        {
          "output_type": "display_data",
          "data": {
            "text/plain": [
              "<Figure size 432x288 with 1 Axes>"
            ],
            "image/png": "[encoded data removed]"
          },
          "metadata": {
            "needs_background": "light"
          }
        }
      ]
    },
    {
      "cell_type": "code",
      "source": [
        ""
      ],
      "metadata": {
        "id": "5XGtb95XI7yJ"
      },
      "execution_count": null,
      "outputs": []
    }
  ]
}